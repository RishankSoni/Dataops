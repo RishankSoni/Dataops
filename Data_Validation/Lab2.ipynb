{
  "cells": [
    {
      "cell_type": "markdown",
      "metadata": {
        "id": "MDyovZ3zcPhB"
      },
      "source": [
        "[![Open in Colab](https://colab.research.google.com/assets/colab-badge.svg)](https://colab.research.google.com/github/Praanshu101/Data_Validation/blob/main/Lab2.ipynb)"
      ]
    },
    {
      "cell_type": "markdown",
      "metadata": {
        "id": "qHy4pjEecPhC"
      },
      "source": [
        "#### Team members (Team 21):\n",
        "\n",
        "Praanshu Patel (23110249)\n",
        "\n",
        "Rishank Soni (23110277)"
      ]
    },
    {
      "cell_type": "markdown",
      "metadata": {
        "id": "2_whLMfNcPhD"
      },
      "source": [
        "### Dataset Preparation"
      ]
    },
    {
      "cell_type": "code",
      "execution_count": 1,
      "metadata": {
        "id": "XPJZcAdHcPhD"
      },
      "outputs": [
        {
          "name": "stdout",
          "output_type": "stream",
          "text": [
            "--2025-02-07 14:07:34--  https://s3.amazonaws.com/tripdata/202412-citibike-tripdata.zip\n",
            "Resolving s3.amazonaws.com (s3.amazonaws.com)... 52.216.219.96, 52.216.212.200, 52.217.136.176, ...\n",
            "Connecting to s3.amazonaws.com (s3.amazonaws.com)|52.216.219.96|:443... connected.\n",
            "HTTP request sent, awaiting response... 200 OK\n",
            "Length: 450888449 (430M) [application/zip]\n",
            "Saving to: ‘202412-citibike-tripdata.zip’\n",
            "\n",
            "                202  19%[==>                 ]  83.24M  1.18MB/s    eta 5m 28s "
          ]
        },
        {
          "ename": "OSError",
          "evalue": "[Errno 5] Input/output error",
          "output_type": "error",
          "traceback": [
            "\u001b[0;31m---------------------------------------------------------------------------\u001b[0m",
            "\u001b[0;31mKeyboardInterrupt\u001b[0m                         Traceback (most recent call last)",
            "File \u001b[0;32m~/Library/Python/3.12/lib/python/site-packages/IPython/utils/_process_posix.py:156\u001b[0m, in \u001b[0;36mProcessHandler.system\u001b[0;34m(self, cmd)\u001b[0m\n\u001b[1;32m    153\u001b[0m \u001b[38;5;28;01mwhile\u001b[39;00m \u001b[38;5;28;01mTrue\u001b[39;00m:\n\u001b[1;32m    154\u001b[0m     \u001b[38;5;66;03m# res is the index of the pattern that caused the match, so we\u001b[39;00m\n\u001b[1;32m    155\u001b[0m     \u001b[38;5;66;03m# know whether we've finished (if we matched EOF) or not\u001b[39;00m\n\u001b[0;32m--> 156\u001b[0m     res_idx \u001b[38;5;241m=\u001b[39m \u001b[43mchild\u001b[49m\u001b[38;5;241;43m.\u001b[39;49m\u001b[43mexpect_list\u001b[49m\u001b[43m(\u001b[49m\u001b[43mpatterns\u001b[49m\u001b[43m,\u001b[49m\u001b[43m \u001b[49m\u001b[38;5;28;43mself\u001b[39;49m\u001b[38;5;241;43m.\u001b[39;49m\u001b[43mread_timeout\u001b[49m\u001b[43m)\u001b[49m\n\u001b[1;32m    157\u001b[0m     \u001b[38;5;28mprint\u001b[39m(child\u001b[38;5;241m.\u001b[39mbefore[out_size:]\u001b[38;5;241m.\u001b[39mdecode(enc, \u001b[38;5;124m'\u001b[39m\u001b[38;5;124mreplace\u001b[39m\u001b[38;5;124m'\u001b[39m), end\u001b[38;5;241m=\u001b[39m\u001b[38;5;124m'\u001b[39m\u001b[38;5;124m'\u001b[39m)\n",
            "File \u001b[0;32m~/Library/Python/3.12/lib/python/site-packages/pexpect/spawnbase.py:383\u001b[0m, in \u001b[0;36mSpawnBase.expect_list\u001b[0;34m(self, pattern_list, timeout, searchwindowsize, async_, **kw)\u001b[0m\n\u001b[1;32m    382\u001b[0m \u001b[38;5;28;01melse\u001b[39;00m:\n\u001b[0;32m--> 383\u001b[0m     \u001b[38;5;28;01mreturn\u001b[39;00m \u001b[43mexp\u001b[49m\u001b[38;5;241;43m.\u001b[39;49m\u001b[43mexpect_loop\u001b[49m\u001b[43m(\u001b[49m\u001b[43mtimeout\u001b[49m\u001b[43m)\u001b[49m\n",
            "File \u001b[0;32m~/Library/Python/3.12/lib/python/site-packages/pexpect/expect.py:169\u001b[0m, in \u001b[0;36mExpecter.expect_loop\u001b[0;34m(self, timeout)\u001b[0m\n\u001b[1;32m    168\u001b[0m \u001b[38;5;66;03m# Still have time left, so read more data\u001b[39;00m\n\u001b[0;32m--> 169\u001b[0m incoming \u001b[38;5;241m=\u001b[39m \u001b[43mspawn\u001b[49m\u001b[38;5;241;43m.\u001b[39;49m\u001b[43mread_nonblocking\u001b[49m\u001b[43m(\u001b[49m\u001b[43mspawn\u001b[49m\u001b[38;5;241;43m.\u001b[39;49m\u001b[43mmaxread\u001b[49m\u001b[43m,\u001b[49m\u001b[43m \u001b[49m\u001b[43mtimeout\u001b[49m\u001b[43m)\u001b[49m\n\u001b[1;32m    170\u001b[0m \u001b[38;5;28;01mif\u001b[39;00m \u001b[38;5;28mself\u001b[39m\u001b[38;5;241m.\u001b[39mspawn\u001b[38;5;241m.\u001b[39mdelayafterread \u001b[38;5;129;01mis\u001b[39;00m \u001b[38;5;129;01mnot\u001b[39;00m \u001b[38;5;28;01mNone\u001b[39;00m:\n",
            "File \u001b[0;32m~/Library/Python/3.12/lib/python/site-packages/pexpect/pty_spawn.py:500\u001b[0m, in \u001b[0;36mspawn.read_nonblocking\u001b[0;34m(self, size, timeout)\u001b[0m\n\u001b[1;32m    497\u001b[0m \u001b[38;5;66;03m# Because of the select(0) check above, we know that no data\u001b[39;00m\n\u001b[1;32m    498\u001b[0m \u001b[38;5;66;03m# is available right now. But if a non-zero timeout is given\u001b[39;00m\n\u001b[1;32m    499\u001b[0m \u001b[38;5;66;03m# (possibly timeout=None), we call select() with a timeout.\u001b[39;00m\n\u001b[0;32m--> 500\u001b[0m \u001b[38;5;28;01mif\u001b[39;00m (timeout \u001b[38;5;241m!=\u001b[39m \u001b[38;5;241m0\u001b[39m) \u001b[38;5;129;01mand\u001b[39;00m \u001b[43mselect\u001b[49m\u001b[43m(\u001b[49m\u001b[43mtimeout\u001b[49m\u001b[43m)\u001b[49m:\n\u001b[1;32m    501\u001b[0m     \u001b[38;5;28;01mreturn\u001b[39;00m \u001b[38;5;28msuper\u001b[39m(spawn, \u001b[38;5;28mself\u001b[39m)\u001b[38;5;241m.\u001b[39mread_nonblocking(size)\n",
            "File \u001b[0;32m~/Library/Python/3.12/lib/python/site-packages/pexpect/pty_spawn.py:450\u001b[0m, in \u001b[0;36mspawn.read_nonblocking.<locals>.select\u001b[0;34m(timeout)\u001b[0m\n\u001b[1;32m    449\u001b[0m \u001b[38;5;28;01mdef\u001b[39;00m \u001b[38;5;21mselect\u001b[39m(timeout):\n\u001b[0;32m--> 450\u001b[0m     \u001b[38;5;28;01mreturn\u001b[39;00m \u001b[43mselect_ignore_interrupts\u001b[49m\u001b[43m(\u001b[49m\u001b[43m[\u001b[49m\u001b[38;5;28;43mself\u001b[39;49m\u001b[38;5;241;43m.\u001b[39;49m\u001b[43mchild_fd\u001b[49m\u001b[43m]\u001b[49m\u001b[43m,\u001b[49m\u001b[43m \u001b[49m\u001b[43m[\u001b[49m\u001b[43m]\u001b[49m\u001b[43m,\u001b[49m\u001b[43m \u001b[49m\u001b[43m[\u001b[49m\u001b[43m]\u001b[49m\u001b[43m,\u001b[49m\u001b[43m \u001b[49m\u001b[43mtimeout\u001b[49m\u001b[43m)\u001b[49m[\u001b[38;5;241m0\u001b[39m]\n",
            "File \u001b[0;32m~/Library/Python/3.12/lib/python/site-packages/pexpect/utils.py:143\u001b[0m, in \u001b[0;36mselect_ignore_interrupts\u001b[0;34m(iwtd, owtd, ewtd, timeout)\u001b[0m\n\u001b[1;32m    142\u001b[0m \u001b[38;5;28;01mtry\u001b[39;00m:\n\u001b[0;32m--> 143\u001b[0m     \u001b[38;5;28;01mreturn\u001b[39;00m \u001b[43mselect\u001b[49m\u001b[38;5;241;43m.\u001b[39;49m\u001b[43mselect\u001b[49m\u001b[43m(\u001b[49m\u001b[43miwtd\u001b[49m\u001b[43m,\u001b[49m\u001b[43m \u001b[49m\u001b[43mowtd\u001b[49m\u001b[43m,\u001b[49m\u001b[43m \u001b[49m\u001b[43mewtd\u001b[49m\u001b[43m,\u001b[49m\u001b[43m \u001b[49m\u001b[43mtimeout\u001b[49m\u001b[43m)\u001b[49m\n\u001b[1;32m    144\u001b[0m \u001b[38;5;28;01mexcept\u001b[39;00m \u001b[38;5;167;01mInterruptedError\u001b[39;00m:\n",
            "\u001b[0;31mKeyboardInterrupt\u001b[0m: ",
            "\nDuring handling of the above exception, another exception occurred:\n",
            "\u001b[0;31mOSError\u001b[0m                                   Traceback (most recent call last)",
            "Cell \u001b[0;32mIn[1], line 7\u001b[0m\n\u001b[1;32m      4\u001b[0m \u001b[38;5;28;01mimport\u001b[39;00m \u001b[38;5;21;01mzipfile\u001b[39;00m\n\u001b[1;32m      6\u001b[0m \u001b[38;5;28;01mif\u001b[39;00m \u001b[38;5;129;01mnot\u001b[39;00m os\u001b[38;5;241m.\u001b[39mpath\u001b[38;5;241m.\u001b[39mexists(\u001b[38;5;124m\"\u001b[39m\u001b[38;5;124m/202412-citibike-tripdata\u001b[39m\u001b[38;5;124m\"\u001b[39m):\n\u001b[0;32m----> 7\u001b[0m   \u001b[43mget_ipython\u001b[49m\u001b[43m(\u001b[49m\u001b[43m)\u001b[49m\u001b[38;5;241;43m.\u001b[39;49m\u001b[43msystem\u001b[49m\u001b[43m(\u001b[49m\u001b[38;5;124;43m'\u001b[39;49m\u001b[38;5;124;43mwget https://s3.amazonaws.com/tripdata/202412-citibike-tripdata.zip\u001b[39;49m\u001b[38;5;124;43m'\u001b[39;49m\u001b[43m)\u001b[49m\n\u001b[1;32m      9\u001b[0m zip_file_path \u001b[38;5;241m=\u001b[39m \u001b[38;5;124m'\u001b[39m\u001b[38;5;124m/content/202412-citibike-tripdata.zip\u001b[39m\u001b[38;5;124m'\u001b[39m\n\u001b[1;32m     10\u001b[0m extraction_folder \u001b[38;5;241m=\u001b[39m \u001b[38;5;124m'\u001b[39m\u001b[38;5;124m/202412-citibike-tripdata\u001b[39m\u001b[38;5;124m'\u001b[39m\n",
            "File \u001b[0;32m~/Library/Python/3.12/lib/python/site-packages/ipykernel/zmqshell.py:657\u001b[0m, in \u001b[0;36mZMQInteractiveShell.system_piped\u001b[0;34m(self, cmd)\u001b[0m\n\u001b[1;32m    655\u001b[0m         \u001b[38;5;28mself\u001b[39m\u001b[38;5;241m.\u001b[39muser_ns[\u001b[38;5;124m\"\u001b[39m\u001b[38;5;124m_exit_code\u001b[39m\u001b[38;5;124m\"\u001b[39m] \u001b[38;5;241m=\u001b[39m system(cmd)\n\u001b[1;32m    656\u001b[0m \u001b[38;5;28;01melse\u001b[39;00m:\n\u001b[0;32m--> 657\u001b[0m     \u001b[38;5;28mself\u001b[39m\u001b[38;5;241m.\u001b[39muser_ns[\u001b[38;5;124m\"\u001b[39m\u001b[38;5;124m_exit_code\u001b[39m\u001b[38;5;124m\"\u001b[39m] \u001b[38;5;241m=\u001b[39m \u001b[43msystem\u001b[49m\u001b[43m(\u001b[49m\u001b[38;5;28;43mself\u001b[39;49m\u001b[38;5;241;43m.\u001b[39;49m\u001b[43mvar_expand\u001b[49m\u001b[43m(\u001b[49m\u001b[43mcmd\u001b[49m\u001b[43m,\u001b[49m\u001b[43m \u001b[49m\u001b[43mdepth\u001b[49m\u001b[38;5;241;43m=\u001b[39;49m\u001b[38;5;241;43m1\u001b[39;49m\u001b[43m)\u001b[49m\u001b[43m)\u001b[49m\n",
            "File \u001b[0;32m~/Library/Python/3.12/lib/python/site-packages/IPython/utils/_process_posix.py:167\u001b[0m, in \u001b[0;36mProcessHandler.system\u001b[0;34m(self, cmd)\u001b[0m\n\u001b[1;32m    162\u001b[0m         out_size \u001b[38;5;241m=\u001b[39m \u001b[38;5;28mlen\u001b[39m(child\u001b[38;5;241m.\u001b[39mbefore)\n\u001b[1;32m    163\u001b[0m \u001b[38;5;28;01mexcept\u001b[39;00m \u001b[38;5;167;01mKeyboardInterrupt\u001b[39;00m:\n\u001b[1;32m    164\u001b[0m     \u001b[38;5;66;03m# We need to send ^C to the process.  The ascii code for '^C' is 3\u001b[39;00m\n\u001b[1;32m    165\u001b[0m     \u001b[38;5;66;03m# (the character is known as ETX for 'End of Text', see\u001b[39;00m\n\u001b[1;32m    166\u001b[0m     \u001b[38;5;66;03m# curses.ascii.ETX).\u001b[39;00m\n\u001b[0;32m--> 167\u001b[0m     \u001b[43mchild\u001b[49m\u001b[38;5;241;43m.\u001b[39;49m\u001b[43msendline\u001b[49m\u001b[43m(\u001b[49m\u001b[38;5;28;43mchr\u001b[39;49m\u001b[43m(\u001b[49m\u001b[38;5;241;43m3\u001b[39;49m\u001b[43m)\u001b[49m\u001b[43m)\u001b[49m\n\u001b[1;32m    168\u001b[0m     \u001b[38;5;66;03m# Read and print any more output the program might produce on its\u001b[39;00m\n\u001b[1;32m    169\u001b[0m     \u001b[38;5;66;03m# way out.\u001b[39;00m\n\u001b[1;32m    170\u001b[0m     \u001b[38;5;28;01mtry\u001b[39;00m:\n",
            "File \u001b[0;32m~/Library/Python/3.12/lib/python/site-packages/pexpect/pty_spawn.py:578\u001b[0m, in \u001b[0;36mspawn.sendline\u001b[0;34m(self, s)\u001b[0m\n\u001b[1;32m    572\u001b[0m \u001b[38;5;250m\u001b[39m\u001b[38;5;124;03m'''Wraps send(), sending string ``s`` to child process, with\u001b[39;00m\n\u001b[1;32m    573\u001b[0m \u001b[38;5;124;03m``os.linesep`` automatically appended. Returns number of bytes\u001b[39;00m\n\u001b[1;32m    574\u001b[0m \u001b[38;5;124;03mwritten.  Only a limited number of bytes may be sent for each\u001b[39;00m\n\u001b[1;32m    575\u001b[0m \u001b[38;5;124;03mline in the default terminal mode, see docstring of :meth:`send`.\u001b[39;00m\n\u001b[1;32m    576\u001b[0m \u001b[38;5;124;03m'''\u001b[39;00m\n\u001b[1;32m    577\u001b[0m s \u001b[38;5;241m=\u001b[39m \u001b[38;5;28mself\u001b[39m\u001b[38;5;241m.\u001b[39m_coerce_send_string(s)\n\u001b[0;32m--> 578\u001b[0m \u001b[38;5;28;01mreturn\u001b[39;00m \u001b[38;5;28;43mself\u001b[39;49m\u001b[38;5;241;43m.\u001b[39;49m\u001b[43msend\u001b[49m\u001b[43m(\u001b[49m\u001b[43ms\u001b[49m\u001b[43m \u001b[49m\u001b[38;5;241;43m+\u001b[39;49m\u001b[43m \u001b[49m\u001b[38;5;28;43mself\u001b[39;49m\u001b[38;5;241;43m.\u001b[39;49m\u001b[43mlinesep\u001b[49m\u001b[43m)\u001b[49m\n",
            "File \u001b[0;32m~/Library/Python/3.12/lib/python/site-packages/pexpect/pty_spawn.py:569\u001b[0m, in \u001b[0;36mspawn.send\u001b[0;34m(self, s)\u001b[0m\n\u001b[1;32m    566\u001b[0m \u001b[38;5;28mself\u001b[39m\u001b[38;5;241m.\u001b[39m_log(s, \u001b[38;5;124m'\u001b[39m\u001b[38;5;124msend\u001b[39m\u001b[38;5;124m'\u001b[39m)\n\u001b[1;32m    568\u001b[0m b \u001b[38;5;241m=\u001b[39m \u001b[38;5;28mself\u001b[39m\u001b[38;5;241m.\u001b[39m_encoder\u001b[38;5;241m.\u001b[39mencode(s, final\u001b[38;5;241m=\u001b[39m\u001b[38;5;28;01mFalse\u001b[39;00m)\n\u001b[0;32m--> 569\u001b[0m \u001b[38;5;28;01mreturn\u001b[39;00m \u001b[43mos\u001b[49m\u001b[38;5;241;43m.\u001b[39;49m\u001b[43mwrite\u001b[49m\u001b[43m(\u001b[49m\u001b[38;5;28;43mself\u001b[39;49m\u001b[38;5;241;43m.\u001b[39;49m\u001b[43mchild_fd\u001b[49m\u001b[43m,\u001b[49m\u001b[43m \u001b[49m\u001b[43mb\u001b[49m\u001b[43m)\u001b[49m\n",
            "\u001b[0;31mOSError\u001b[0m: [Errno 5] Input/output error"
          ]
        }
      ],
      "source": [
        "# Extraction of the data from the zip file (To be run in Google Colab)\n",
        "\n",
        "import os\n",
        "import zipfile\n",
        "\n",
        "if not os.path.exists(\"/202412-citibike-tripdata\"):\n",
        "  !wget https://s3.amazonaws.com/tripdata/202412-citibike-tripdata.zip\n",
        "\n",
        "zip_file_path = '/content/202412-citibike-tripdata.zip'\n",
        "extraction_folder = '/202412-citibike-tripdata'\n",
        "\n",
        "# Create the extraction folder\n",
        "os.makedirs(extraction_folder, exist_ok=True)\n",
        "\n",
        "# Extract into the folder\n",
        "with zipfile.ZipFile(zip_file_path, 'r') as zip_ref:\n",
        "    zip_ref.extract('202412-citibike-tripdata_1.csv', path=extraction_folder)\n"
      ]
    },
    {
      "cell_type": "code",
      "execution_count": 2,
      "metadata": {
        "id": "EQcHCrWGcPhE"
      },
      "outputs": [],
      "source": [
        "!pip install pandera -q # (To be run in Google Colab)"
      ]
    },
    {
      "cell_type": "code",
      "execution_count": 5,
      "metadata": {
        "id": "_0sjZGCecPhE"
      },
      "outputs": [],
      "source": [
        "import pandas as pd\n",
        "import pandera as pa\n",
        "import json\n",
        "\n",
        "import os\n",
        "import zipfile\n",
        "import warnings\n",
        "\n",
        "warnings.filterwarnings('ignore')"
      ]
    },
    {
      "cell_type": "code",
      "execution_count": 6,
      "metadata": {
        "colab": {
          "base_uri": "https://localhost:8080/",
          "height": 309
        },
        "id": "EOdaHmpWcPhF",
        "outputId": "a178c65e-7b18-4406-8e18-e15969ba363f"
      },
      "outputs": [
        {
          "ename": "FileNotFoundError",
          "evalue": "[Errno 2] No such file or directory: '/202412-citibike-tripdata'",
          "output_type": "error",
          "traceback": [
            "\u001b[0;31m---------------------------------------------------------------------------\u001b[0m",
            "\u001b[0;31mFileNotFoundError\u001b[0m                         Traceback (most recent call last)",
            "Cell \u001b[0;32mIn[6], line 4\u001b[0m\n\u001b[1;32m      1\u001b[0m \u001b[38;5;66;03m# Load the csv files from folder 202412-citibike-tripdata\u001b[39;00m\n\u001b[1;32m      3\u001b[0m path \u001b[38;5;241m=\u001b[39m \u001b[38;5;124m'\u001b[39m\u001b[38;5;124m/202412-citibike-tripdata\u001b[39m\u001b[38;5;124m'\u001b[39m\n\u001b[0;32m----> 4\u001b[0m files \u001b[38;5;241m=\u001b[39m \u001b[43mos\u001b[49m\u001b[38;5;241;43m.\u001b[39;49m\u001b[43mlistdir\u001b[49m\u001b[43m(\u001b[49m\u001b[43mpath\u001b[49m\u001b[43m)\u001b[49m\n\u001b[1;32m      6\u001b[0m \u001b[38;5;66;03m# Load the csv files into a dataframe\u001b[39;00m\n\u001b[1;32m      7\u001b[0m df \u001b[38;5;241m=\u001b[39m pd\u001b[38;5;241m.\u001b[39mconcat([pd\u001b[38;5;241m.\u001b[39mread_csv(path \u001b[38;5;241m+\u001b[39m \u001b[38;5;124m'\u001b[39m\u001b[38;5;124m/\u001b[39m\u001b[38;5;124m'\u001b[39m \u001b[38;5;241m+\u001b[39m f) \u001b[38;5;28;01mfor\u001b[39;00m f \u001b[38;5;129;01min\u001b[39;00m files], ignore_index \u001b[38;5;241m=\u001b[39m \u001b[38;5;28;01mTrue\u001b[39;00m)\n",
            "\u001b[0;31mFileNotFoundError\u001b[0m: [Errno 2] No such file or directory: '/202412-citibike-tripdata'"
          ]
        }
      ],
      "source": [
        "# Load the csv files from folder 202412-citibike-tripdata\n",
        "\n",
        "path = '/202412-citibike-tripdata'\n",
        "files = os.listdir(path)\n",
        "\n",
        "# Load the csv files into a dataframe\n",
        "df = pd.concat([pd.read_csv(path + '/' + f) for f in files], ignore_index = True)\n",
        "\n",
        "# Display the first 5 rows of the dataframe\n",
        "df.head()"
      ]
    },
    {
      "cell_type": "markdown",
      "metadata": {
        "id": "znrpUor1cPhF"
      },
      "source": [
        "#### Validation of key fields"
      ]
    },
    {
      "cell_type": "markdown",
      "metadata": {
        "id": "sx398u_ocPhF"
      },
      "source": [
        "Validating the following fields (using pandera):\n",
        "- ride_id (string)\n",
        "- rideable_type (categorical)\n",
        "- started_at (string)\n",
        "- ended_at (string)\n",
        "- start_station_name (string)\n",
        "- start_station_id (string)\n",
        "- end_station_name (string)\n",
        "- end_station_id (string)\n",
        "- start_lat, start_lng (float)\n",
        "- end_lat, end_lng (float)\n",
        "- member_casual (categorical)"
      ]
    },
    {
      "cell_type": "code",
      "execution_count": null,
      "metadata": {
        "colab": {
          "base_uri": "https://localhost:8080/",
          "height": 486
        },
        "id": "X928QuoocPhG",
        "outputId": "ff2e43a6-5f79-45a3-bc35-4fc30c468c9a"
      },
      "outputs": [],
      "source": [
        "# Original dataframe columns and data types\n",
        "\n",
        "df.dtypes"
      ]
    },
    {
      "cell_type": "markdown",
      "metadata": {
        "id": "tt1R2WoVcPhG"
      },
      "source": [
        "##### Q1 a) Validating the datatype of each column"
      ]
    },
    {
      "cell_type": "code",
      "execution_count": null,
      "metadata": {
        "colab": {
          "base_uri": "https://localhost:8080/"
        },
        "id": "Jv-mtpZrcPhG",
        "outputId": "35f8d15b-f139-48ec-e3ab-53486c4d7e29"
      },
      "outputs": [],
      "source": [
        "# Validating the schema of the dataframe (data types of the columns)\n",
        "\n",
        "schema = pa.DataFrameSchema({\n",
        "    \"ride_id\": pa.Column(pa.String),\n",
        "    \"rideable_type\": pa.Column(pa.String),\n",
        "    \"started_at\": pa.Column(pa.String),\n",
        "    \"ended_at\": pa.Column(pa.String),\n",
        "    \"start_station_name\": pa.Column(pa.String),\n",
        "    \"start_station_id\": pa.Column(pa.String),\n",
        "    \"end_station_name\": pa.Column(pa.String),\n",
        "    \"end_station_id\": pa.Column(pa.String),\n",
        "    \"start_lat\": pa.Column(pa.Float),\n",
        "    \"start_lng\": pa.Column(pa.Float),\n",
        "    \"end_lat\": pa.Column(pa.Float),\n",
        "    \"end_lng\": pa.Column(pa.Float),\n",
        "    \"member_casual\": pa.Column(pa.String)\n",
        "})\n",
        "\n",
        "try:\n",
        "    schema.validate(df, lazy=True)\n",
        "except pa.errors.SchemaErrors as e:\n",
        "    print(json.dumps(e.message, indent=2))"
      ]
    },
    {
      "cell_type": "markdown",
      "metadata": {
        "id": "pC0_itrvcPhG"
      },
      "source": [
        "Fixing the datatypes and errors:"
      ]
    },
    {
      "cell_type": "code",
      "execution_count": null,
      "metadata": {
        "colab": {
          "base_uri": "https://localhost:8080/"
        },
        "id": "Pbf8KeVmcPhG",
        "outputId": "03735804-c545-4707-bbbf-5ae26211aa09"
      },
      "outputs": [],
      "source": [
        "# Converting the start_station_id and end_station_id to string\n",
        "df['start_station_id'] = df['start_station_id'].astype(str)\n",
        "df['end_station_id'] = df['end_station_id'].astype(str)\n",
        "\n",
        "# Validate the schema of the dataframe\n",
        "try:\n",
        "    schema.validate(df, lazy=True)\n",
        "    print(\"The dataframe is valid\")\n",
        "except pa.errors.SchemaErrors as e:\n",
        "    print(json.dumps(e.message, indent=2))\n"
      ]
    },
    {
      "cell_type": "markdown",
      "metadata": {
        "id": "7Uwe9PJ_cPhG"
      },
      "source": [
        "##### Q1 b) Analyzing features and writing appropriate checks"
      ]
    },
    {
      "cell_type": "code",
      "execution_count": null,
      "metadata": {
        "colab": {
          "base_uri": "https://localhost:8080/"
        },
        "id": "UqOL3LxacPhH",
        "outputId": "cbead4ec-a9f9-4fd9-bfb1-ca6ddbb8ea87"
      },
      "outputs": [],
      "source": [
        "# Analyzing each feature\n",
        "\n",
        "# Rideaable type (only two types of rideable type)\n",
        "print(df['rideable_type'].value_counts())\n",
        "\n",
        "# Member_casual (only two types of member_casual)\n",
        "print(df['member_casual'].value_counts())\n",
        "\n",
        "# Checking if the start_station_id and end_station_id are the same\n",
        "print(\"Number of rows with same start_station_id and end_station_id:\")\n",
        "print(df[df['start_station_id'] == df['end_station_id']].shape[0])\n",
        "\n",
        "# Checking the range of latitude and longitude\n",
        "print(\"Number of rows with latitude and longitude out of range:\")\n",
        "print(df[(df['start_lat'] > 90) | (df['start_lat'] < -90)].shape[0])\n",
        "print(df[(df['start_lng'] > 180) | (df['start_lng'] < -180)].shape[0])\n",
        "print(df[(df['end_lat'] > 90) | (df['end_lat'] < -90)].shape[0])\n",
        "print(df[(df['end_lng'] > 180) | (df['end_lng'] < -180)].shape[0])\n",
        "\n",
        "# Checking if the start_lat, start_lng and end_lat, end_lng are same\n",
        "print(\"Number of rows with same start_lat and start_lng:\")\n",
        "print(df[(df['start_lat'] == df['end_lat']) & (df['start_lng'] == df['end_lng'])].shape[0])\n",
        "\n",
        "# Checking if the start_time is greater than end_time\n",
        "print(\"Number of rows with start_time greater than end_time:\")\n",
        "print(df[df['started_at'] > df['ended_at']].shape[0])"
      ]
    },
    {
      "cell_type": "markdown",
      "metadata": {
        "id": "2Fpc6o6FcPhH"
      },
      "source": [
        "Validating using a schema:"
      ]
    },
    {
      "cell_type": "code",
      "execution_count": null,
      "metadata": {
        "colab": {
          "base_uri": "https://localhost:8080/"
        },
        "id": "pERw_wG7cPhH",
        "outputId": "026e1f38-a2df-4f69-818d-e3ad65711fa4"
      },
      "outputs": [],
      "source": [
        "# Validating the above checks using schema\n",
        "\n",
        "schema2 = pa.DataFrameSchema({\n",
        "    \"ride_id\": pa.Column(pa.String),\n",
        "    \"rideable_type\": pa.Column(pa.String, checks=[pa.Check.isin([\"classic_bike\", \"electric_bike\"])]),\n",
        "    \"started_at\": pa.Column(pa.String),\n",
        "    \"ended_at\": pa.Column(pa.String),\n",
        "    \"start_station_name\": pa.Column(pa.String),\n",
        "    \"start_station_id\": pa.Column(pa.String),\n",
        "    \"end_station_name\": pa.Column(pa.String),\n",
        "    \"end_station_id\": pa.Column(pa.String),\n",
        "    \"start_lat\": pa.Column(pa.Float, checks=[pa.Check.greater_than(-90), pa.Check.less_than(90)]),\n",
        "    \"start_lng\": pa.Column(pa.Float, checks=[pa.Check.greater_than(-180), pa.Check.less_than(180)]),\n",
        "    \"end_lat\": pa.Column(pa.Float, checks=[pa.Check.greater_than(-90), pa.Check.less_than(90)]),\n",
        "    \"end_lng\": pa.Column(pa.Float, checks=[pa.Check.greater_than(-180), pa.Check.less_than(180)]),\n",
        "    \"member_casual\": pa.Column(pa.String, checks=[pa.Check.isin([\"member\", \"casual\"])])\n",
        "})\n",
        "\n",
        "try:\n",
        "    schema2.validate(df, lazy=True)\n",
        "    print(\"The data is valid\")\n",
        "except pa.errors.SchemaErrors as e:\n",
        "    print(json.dumps(e.message, indent=2))\n"
      ]
    },
    {
      "cell_type": "markdown",
      "metadata": {
        "id": "mJfzxddMcPhH"
      },
      "source": [
        "##### Q1 c) Adding data validation rules to verify that start time is lesser than end time (Using Pandera Decorators)"
      ]
    },
    {
      "cell_type": "code",
      "execution_count": null,
      "metadata": {
        "colab": {
          "base_uri": "https://localhost:8080/"
        },
        "id": "k34i_QhbcPhH",
        "outputId": "3eef56b8-66a8-4aed-dd7f-2ffc5d7e69ad"
      },
      "outputs": [],
      "source": [
        "# Validate if the start_time is lesser than end_time using pandera decorators\n",
        "\n",
        "# Defining the schema for the output of the function (time column should be greater than or equal to 0)\n",
        "schema3 = pa.DataFrameSchema({\n",
        "    'time': pa.Column(pa.Float, checks=[pa.Check.ge(0)], nullable=False)\n",
        "})\n",
        "\n",
        "@pa.check_output(schema3) # To Validate the output of the function\n",
        "\n",
        "def validate_schema(df: pd.DataFrame) -> pd.DataFrame:\n",
        "    # Convert the started_at and ended_at to datetime\n",
        "    df['started_at'] = pd.to_datetime(df['started_at'])\n",
        "    df['ended_at'] = pd.to_datetime(df['ended_at'])\n",
        "\n",
        "    # Calculate the time taken for the ride\n",
        "    df['time'] = (df['ended_at'] - df['started_at']).dt.total_seconds().astype(float)\n",
        "\n",
        "    return df\n",
        "\n",
        "# Validate the schema of the dataframe\n",
        "df3 = validate_schema(df)\n",
        "try:\n",
        "    schema3.validate(df3, lazy=True)\n",
        "    print(\"The data is valid\")\n",
        "except pa.errors.SchemaErrors as e:\n",
        "    print(json.dumps(e.message, indent=2))"
      ]
    },
    {
      "cell_type": "markdown",
      "metadata": {
        "id": "iArBuHJucPhH"
      },
      "source": [
        "Q2\n",
        "a)\n",
        "Validate the datatype of each column using Great Expectations"
      ]
    },
    {
      "cell_type": "code",
      "execution_count": null,
      "metadata": {
        "id": "pnV_PgzjcPhH"
      },
      "outputs": [],
      "source": [
        "# Remove any existing great_expectations directory\n",
        "!rm -rf gx\n",
        "\n",
        "# Install great_expectations\n",
        "!pip install great_expectations -q"
      ]
    },
    {
      "cell_type": "code",
      "execution_count": null,
      "metadata": {
        "id": "E1ap-vzJcPhH"
      },
      "outputs": [],
      "source": [
        "# Initialize the data context\n",
        "import great_expectations as gx\n",
        "from great_expectations.data_context.types.base import DataContextConfig\n",
        "from great_expectations.checkpoint import CheckpointResult\n",
        "\n",
        "import pandas as pd"
      ]
    },
    {
      "cell_type": "code",
      "execution_count": null,
      "metadata": {
        "colab": {
          "base_uri": "https://localhost:8080/",
          "height": 494,
          "referenced_widgets": [
            "5b3dbbc9550b404db3b18a5f386715a4",
            "0089611952c84b54b68769e3e632b32f",
            "7ccc8871632e420d8e9d4f735cae8b09",
            "f9e912169f224d6f80c37d998eee64f0",
            "d08b1d98435243e89aa7ff0f41d7e5f2",
            "0e7fa9941f2749af9dc2605385c1ef18",
            "eca9e5267dda4add89760824d82051fb",
            "f9c3836add6842fcab1c6d8a8d359810",
            "81f1bdc208054b29945cb43c9f91419a",
            "5960d554d879477aae371dffdb53957e",
            "d4e6d2e79c3d4ad595ab297db65e64d4"
          ]
        },
        "id": "v6v_KZq8cPhH",
        "outputId": "485cedc6-c6b2-4ad2-b7d9-2861c06e09a7"
      },
      "outputs": [],
      "source": [
        "\n",
        "\n",
        "# Get the Great Expectations context in file mode\n",
        "context = gx.get_context(mode=\"file\")\n",
        "\n",
        "# Add a new data source for pandas dataframes\n",
        "data_source_name = \"my_data_source\"\n",
        "data_source = context.data_sources.add_pandas(name=data_source_name)\n",
        "\n",
        "# Add a new data asset to the data source\n",
        "data_asset_name = \"my_dataframe_data_asset\"\n",
        "data_asset = data_source.add_dataframe_asset(name=data_asset_name)\n",
        "\n",
        "# Define a batch for the whole dataframe\n",
        "batch_definition = data_asset.add_batch_definition_whole_dataframe(\"batch definition\")\n",
        "\n",
        "# Set the batch parameters with the dataframe\n",
        "batch_parameters = {\"dataframe\": df}\n",
        "\n",
        "# Get the batch using the batch definition and parameters\n",
        "batch = batch_definition.get_batch(batch_parameters)\n",
        "print(batch.head(4))"
      ]
    },
    {
      "cell_type": "code",
      "execution_count": null,
      "metadata": {
        "colab": {
          "base_uri": "https://localhost:8080/"
        },
        "id": "ousdt1QbcPhI",
        "outputId": "596d5342-7336-491a-ad06-1cfdfabce036"
      },
      "outputs": [],
      "source": [
        "# Create an expectation suite\n",
        "suite_name = \"datatype_validation_suite\"\n",
        "suite = gx.ExpectationSuite(name=suite_name)\n",
        "context.suites.add(suite)"
      ]
    },
    {
      "cell_type": "code",
      "execution_count": null,
      "metadata": {
        "colab": {
          "base_uri": "https://localhost:8080/"
        },
        "id": "2bQvFXMHcPhI",
        "outputId": "632061d0-5e6d-4a74-bf3a-6554861a41eb"
      },
      "outputs": [],
      "source": [
        "# Add expectations to the suite\n",
        "suite.add_expectation(\n",
        "    gx.expectations.ExpectColumnValuesToBeOfType(\n",
        "        column=\"ride_id\", type_=\"str\"\n",
        "    )\n",
        ")\n",
        "suite.add_expectation(\n",
        "    gx.expectations.ExpectColumnValuesToBeInSet(\n",
        "        column=\"rideable_type\", value_set=[\"electric_bike\", \"classic_bike\"]\n",
        "    )\n",
        ")\n",
        "suite.add_expectation(\n",
        "    gx.expectations.ExpectColumnValuesToBeOfType(\n",
        "        column=\"started_at\", type_=\"str\"\n",
        "    )\n",
        ")\n",
        "suite.add_expectation(\n",
        "    gx.expectations.ExpectColumnValuesToBeOfType(\n",
        "        column=\"ended_at\", type_=\"str\"\n",
        "    )\n",
        ")\n",
        "suite.add_expectation(\n",
        "    gx.expectations.ExpectColumnValuesToBeOfType(\n",
        "        column=\"start_station_name\", type_=\"str\"\n",
        "    )\n",
        ")\n",
        "suite.add_expectation(\n",
        "    gx.expectations.ExpectColumnValuesToBeOfType(\n",
        "        column=\"start_station_id\", type_=\"str\"\n",
        "    )\n",
        ")\n",
        "suite.add_expectation(\n",
        "    gx.expectations.ExpectColumnValuesToBeOfType(\n",
        "        column=\"end_station_name\", type_=\"str\"\n",
        "    )\n",
        ")\n",
        "suite.add_expectation(\n",
        "    gx.expectations.ExpectColumnValuesToBeOfType(\n",
        "        column=\"end_station_id\", type_=\"str\"\n",
        "    )\n",
        ")\n",
        "suite.add_expectation(\n",
        "    gx.expectations.ExpectColumnValuesToBeOfType(\n",
        "        column=\"start_lat\", type_=\"float\"\n",
        "    )\n",
        ")\n",
        "suite.add_expectation(\n",
        "    gx.expectations.ExpectColumnValuesToBeOfType(\n",
        "        column=\"start_lng\", type_=\"float\"\n",
        "    )\n",
        ")\n",
        "suite.add_expectation(\n",
        "    gx.expectations.ExpectColumnValuesToBeOfType(\n",
        "        column=\"end_lat\", type_=\"float\"\n",
        "    )\n",
        ")\n",
        "suite.add_expectation(\n",
        "    gx.expectations.ExpectColumnValuesToBeOfType(\n",
        "        column=\"end_lng\", type_=\"float\"\n",
        "    )\n",
        ")\n",
        "suite.add_expectation(\n",
        "    gx.expectations.ExpectColumnValuesToBeInSet(\n",
        "        column=\"member_casual\", value_set=[\"member\", \"casual\"]\n",
        "    )\n",
        ")\n",
        "\n",
        "\n",
        "\n"
      ]
    },
    {
      "cell_type": "code",
      "execution_count": null,
      "metadata": {
        "id": "Ze4HRAk5cPhI"
      },
      "outputs": [],
      "source": [
        "# define the validation definition with the batch definition and suite\n",
        "definition_name = \"my_validation_definition\"\n",
        "validation_definition = gx.ValidationDefinition(\n",
        "    data=batch_definition, suite=suite, name=definition_name\n",
        ")\n",
        "validation_definition = context.validation_definitions.add(validation_definition) # Add the validation definition to the context"
      ]
    },
    {
      "cell_type": "code",
      "execution_count": null,
      "metadata": {
        "colab": {
          "base_uri": "https://localhost:8080/",
          "height": 1000,
          "referenced_widgets": [
            "377f188f787f45abbe26a37083e1494e",
            "9d765325ba634222a05cd3f8a848fb31",
            "0a281bcd164b4891a8d11945df3967d3",
            "62b7472256bc439a96897ce9a9ec9972",
            "362f641ccdcd473694bdd5cd51e3be65",
            "de48eacbb5b84f049f916c1b8d04f67f",
            "7cb8399984f24118b71b4b0f26ece917",
            "39158831938a481ca40ed35630bae153",
            "2a8ef9460a964e58a59c1f8f84be4a01",
            "b880904e78e34b55b9f717d6b9c1a6ac",
            "2c636d76aa0345599be5449ad5db6ce9"
          ]
        },
        "id": "__nfxh62cPhI",
        "outputId": "100409a9-2053-41d7-9bb4-9c7ccfea41c6"
      },
      "outputs": [],
      "source": [
        "validation_definition_name = \"my_validation_definition\"\n",
        "validation_definition = context.validation_definitions.get(validation_definition_name) # Get the validation definition from the context\n",
        "\n",
        "validation_results = validation_definition.run(batch_parameters=batch_parameters)\n",
        "print(validation_results)"
      ]
    },
    {
      "cell_type": "markdown",
      "metadata": {
        "id": "0Bg2USbDcPhI"
      },
      "source": [
        "\n",
        "\n",
        "\n",
        "### Validation Results\n",
        "\n",
        "\n",
        "The validation results for the dataset are as follows:\n",
        "\n",
        "- **Total Expectations Evaluated**: 13\n",
        "- **Successful Expectations**: 11\n",
        "- **Unsuccessful Expectations**: 2\n",
        "\n",
        "\n",
        "#### Successful Expectations:\n",
        "1. `expect_column_values_to_be_of_type` for column `ride_id`\n",
        "2. `expect_column_values_to_be_in_set` for column `rideable_type`\n",
        "3. `expect_column_values_to_be_of_type` for column `start_station_name`\n",
        "4. `expect_column_values_to_be_of_type` for column `start_station_id`\n",
        "5. `expect_column_values_to_be_of_type` for column `end_station_name`\n",
        "6. `expect_column_values_to_be_of_type` for column `end_station_id`\n",
        "7. `expect_column_values_to_be_of_type` for column `start_lat`\n",
        "8. `expect_column_values_to_be_of_type` for column `start_lng`\n",
        "9. `expect_column_values_to_be_of_type` for column `end_lat`\n",
        "10. `expect_column_values_to_be_of_type` for column `end_lng`\n",
        "11. `expect_column_values_to_be_in_set` for column `member_casual`\n",
        "\n",
        "#### Unsuccessful Expectations:\n",
        "1. `expect_column_values_to_be_of_type` for column `started_at` (Expected: `str`, Observed: `datetime64`)\n",
        "2. `expect_column_values_to_be_of_type` for column `ended_at` (Expected: `str`, Observed: `datetime64`)\n",
        "\n",
        "The validation was partially successful with a majority of the expectations being met. However, there were issues with the data types of the `started_at` and `ended_at` columns, which were expected to be strings but were observed as datetime objects."
      ]
    },
    {
      "cell_type": "markdown",
      "metadata": {
        "id": "LMNxpsTGcPhI"
      },
      "source": [
        "Q2. b) A mail when encountering a failure"
      ]
    },
    {
      "cell_type": "code",
      "execution_count": null,
      "metadata": {
        "colab": {
          "base_uri": "https://localhost:8080/"
        },
        "id": "VA87r20ecPhI",
        "outputId": "1cfc9fe2-21a5-4a27-8ca5-ff82b67b6461"
      },
      "outputs": [],
      "source": [
        "# impot the actions from great_expectations\n",
        "from great_expectations.checkpoint import (EmailAction)"
      ]
    },
    {
      "cell_type": "code",
      "execution_count": null,
      "metadata": {
        "id": "Pb0bd_8lcPhI"
      },
      "outputs": [],
      "source": [
        "context = gx.get_context()\n",
        "validation_definitions = [\n",
        "    context.validation_definitions.get(\"my_validation_definition\")\n",
        "]"
      ]
    },
    {
      "cell_type": "code",
      "execution_count": null,
      "metadata": {
        "colab": {
          "base_uri": "https://localhost:8080/"
        },
        "id": "ntyqsm7ocPhI",
        "outputId": "09a79a34-8572-47df-9c59-a3e68bf6b860"
      },
      "outputs": [],
      "source": [
        "email_action =[EmailAction(\n",
        "    name=\"send_email_on_failure\",\n",
        "    smtp_address='smtp.gmail.com',\n",
        "    smtp_port=587, # 587 is the default port for TLS\n",
        "    receiver_emails=\"23110249@iitgn.ac.in\", # Receiver email\n",
        "    sender_login=\"23110277@iitgn.ac.in\", # Sender email\n",
        "    #password = \"\"\n",
        "    use_tls=True,\n",
        "    notify_on=\"failure\"# Notify on all results\n",
        ")]"
      ]
    },
    {
      "cell_type": "code",
      "execution_count": null,
      "metadata": {
        "colab": {
          "base_uri": "https://localhost:8080/"
        },
        "id": "Y40jN-jBcPhJ",
        "outputId": "44fd606c-9bb8-4c3e-8792-fd320a0a0737"
      },
      "outputs": [],
      "source": [
        "checkpoint_name = \"my_checkpoint\"\n",
        "checkpoint = gx.Checkpoint(\n",
        "    name=checkpoint_name,\n",
        "    validation_definitions=validation_definitions, # List of ValidationDefinition objects\n",
        "    actions=email_action, # List of Action objects\n",
        "    result_format={\"result_format\": \"COMPLETE\"},\n",
        ")\n",
        "\n",
        "# Save the Checkpoint to the Data Context\n",
        "context.checkpoints.add(checkpoint)\n",
        "\n",
        "# Retrieve the Checkpoint later\n",
        "checkpoint_name = \"my_checkpoint\"\n",
        "checkpoint = context.checkpoints.get(checkpoint_name)"
      ]
    },
    {
      "cell_type": "code",
      "execution_count": null,
      "metadata": {
        "colab": {
          "base_uri": "https://localhost:8080/",
          "height": 120,
          "referenced_widgets": [
            "fe8c3057c4e844f0996168bf7ad645bd",
            "640310cc695c4bfca0b20edfbbba7808",
            "d05df8bd02c24d20b7d3b295ec5025fe",
            "6bd8aa6c9b3048a2a515a4e048a9af16",
            "3bb93ff99f8d40edabf5c5e18f2f8aa6",
            "0998da99547d467789c7fbf8292550bd",
            "612ac3bea96f456c9e98639a13916baf",
            "33db18394b2e4789bdfa4e794f7284c7",
            "42f5d949449c4262ac9cd056ce59da6a",
            "57bd83fc7dc444b783d1ad10b18eb923",
            "2113ff9a17584111bad193d0a2c082f0"
          ]
        },
        "id": "S28QJFSbcPhJ",
        "outputId": "f9a89854-0c30-4059-e53e-c25c2d2d6076"
      },
      "outputs": [],
      "source": [
        "# Run the Check and send the results to the email action\n",
        "validation_results = checkpoint.run(\n",
        "    batch_parameters=batch_parameters, expectation_parameters=suite\n",
        ")"
      ]
    },
    {
      "cell_type": "markdown",
      "metadata": {
        "id": "by82tbaEfuq8"
      },
      "source": [
        "![image.png](data:image/png;base64,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)"
      ]
    }
  ],
  "metadata": {
    "colab": {
      "provenance": []
    },
    "kernelspec": {
      "display_name": "3.12",
      "language": "python",
      "name": "python3"
    },
    "language_info": {
      "codemirror_mode": {
        "name": "ipython",
        "version": 3
      },
      "file_extension": ".py",
      "mimetype": "text/x-python",
      "name": "python",
      "nbconvert_exporter": "python",
      "pygments_lexer": "ipython3",
      "version": "3.12.3"
    },
    "widgets": {
      "application/vnd.jupyter.widget-state+json": {
        "0089611952c84b54b68769e3e632b32f": {
          "model_module": "@jupyter-widgets/controls",
          "model_module_version": "1.5.0",
          "model_name": "HTMLModel",
          "state": {
            "_dom_classes": [],
            "_model_module": "@jupyter-widgets/controls",
            "_model_module_version": "1.5.0",
            "_model_name": "HTMLModel",
            "_view_count": null,
            "_view_module": "@jupyter-widgets/controls",
            "_view_module_version": "1.5.0",
            "_view_name": "HTMLView",
            "description": "",
            "description_tooltip": null,
            "layout": "IPY_MODEL_0e7fa9941f2749af9dc2605385c1ef18",
            "placeholder": "​",
            "style": "IPY_MODEL_eca9e5267dda4add89760824d82051fb",
            "value": "Calculating Metrics: 100%"
          }
        },
        "0998da99547d467789c7fbf8292550bd": {
          "model_module": "@jupyter-widgets/base",
          "model_module_version": "1.2.0",
          "model_name": "LayoutModel",
          "state": {
            "_model_module": "@jupyter-widgets/base",
            "_model_module_version": "1.2.0",
            "_model_name": "LayoutModel",
            "_view_count": null,
            "_view_module": "@jupyter-widgets/base",
            "_view_module_version": "1.2.0",
            "_view_name": "LayoutView",
            "align_content": null,
            "align_items": null,
            "align_self": null,
            "border": null,
            "bottom": null,
            "display": null,
            "flex": null,
            "flex_flow": null,
            "grid_area": null,
            "grid_auto_columns": null,
            "grid_auto_flow": null,
            "grid_auto_rows": null,
            "grid_column": null,
            "grid_gap": null,
            "grid_row": null,
            "grid_template_areas": null,
            "grid_template_columns": null,
            "grid_template_rows": null,
            "height": null,
            "justify_content": null,
            "justify_items": null,
            "left": null,
            "margin": null,
            "max_height": null,
            "max_width": null,
            "min_height": null,
            "min_width": null,
            "object_fit": null,
            "object_position": null,
            "order": null,
            "overflow": null,
            "overflow_x": null,
            "overflow_y": null,
            "padding": null,
            "right": null,
            "top": null,
            "visibility": null,
            "width": null
          }
        },
        "0a281bcd164b4891a8d11945df3967d3": {
          "model_module": "@jupyter-widgets/controls",
          "model_module_version": "1.5.0",
          "model_name": "FloatProgressModel",
          "state": {
            "_dom_classes": [],
            "_model_module": "@jupyter-widgets/controls",
            "_model_module_version": "1.5.0",
            "_model_name": "FloatProgressModel",
            "_view_count": null,
            "_view_module": "@jupyter-widgets/controls",
            "_view_module_version": "1.5.0",
            "_view_name": "ProgressView",
            "bar_style": "success",
            "description": "",
            "description_tooltip": null,
            "layout": "IPY_MODEL_39158831938a481ca40ed35630bae153",
            "max": 52,
            "min": 0,
            "orientation": "horizontal",
            "style": "IPY_MODEL_2a8ef9460a964e58a59c1f8f84be4a01",
            "value": 52
          }
        },
        "0e7fa9941f2749af9dc2605385c1ef18": {
          "model_module": "@jupyter-widgets/base",
          "model_module_version": "1.2.0",
          "model_name": "LayoutModel",
          "state": {
            "_model_module": "@jupyter-widgets/base",
            "_model_module_version": "1.2.0",
            "_model_name": "LayoutModel",
            "_view_count": null,
            "_view_module": "@jupyter-widgets/base",
            "_view_module_version": "1.2.0",
            "_view_name": "LayoutView",
            "align_content": null,
            "align_items": null,
            "align_self": null,
            "border": null,
            "bottom": null,
            "display": null,
            "flex": null,
            "flex_flow": null,
            "grid_area": null,
            "grid_auto_columns": null,
            "grid_auto_flow": null,
            "grid_auto_rows": null,
            "grid_column": null,
            "grid_gap": null,
            "grid_row": null,
            "grid_template_areas": null,
            "grid_template_columns": null,
            "grid_template_rows": null,
            "height": null,
            "justify_content": null,
            "justify_items": null,
            "left": null,
            "margin": null,
            "max_height": null,
            "max_width": null,
            "min_height": null,
            "min_width": null,
            "object_fit": null,
            "object_position": null,
            "order": null,
            "overflow": null,
            "overflow_x": null,
            "overflow_y": null,
            "padding": null,
            "right": null,
            "top": null,
            "visibility": null,
            "width": null
          }
        },
        "2113ff9a17584111bad193d0a2c082f0": {
          "model_module": "@jupyter-widgets/controls",
          "model_module_version": "1.5.0",
          "model_name": "DescriptionStyleModel",
          "state": {
            "_model_module": "@jupyter-widgets/controls",
            "_model_module_version": "1.5.0",
            "_model_name": "DescriptionStyleModel",
            "_view_count": null,
            "_view_module": "@jupyter-widgets/base",
            "_view_module_version": "1.2.0",
            "_view_name": "StyleView",
            "description_width": ""
          }
        },
        "2a8ef9460a964e58a59c1f8f84be4a01": {
          "model_module": "@jupyter-widgets/controls",
          "model_module_version": "1.5.0",
          "model_name": "ProgressStyleModel",
          "state": {
            "_model_module": "@jupyter-widgets/controls",
            "_model_module_version": "1.5.0",
            "_model_name": "ProgressStyleModel",
            "_view_count": null,
            "_view_module": "@jupyter-widgets/base",
            "_view_module_version": "1.2.0",
            "_view_name": "StyleView",
            "bar_color": null,
            "description_width": ""
          }
        },
        "2c636d76aa0345599be5449ad5db6ce9": {
          "model_module": "@jupyter-widgets/controls",
          "model_module_version": "1.5.0",
          "model_name": "DescriptionStyleModel",
          "state": {
            "_model_module": "@jupyter-widgets/controls",
            "_model_module_version": "1.5.0",
            "_model_name": "DescriptionStyleModel",
            "_view_count": null,
            "_view_module": "@jupyter-widgets/base",
            "_view_module_version": "1.2.0",
            "_view_name": "StyleView",
            "description_width": ""
          }
        },
        "33db18394b2e4789bdfa4e794f7284c7": {
          "model_module": "@jupyter-widgets/base",
          "model_module_version": "1.2.0",
          "model_name": "LayoutModel",
          "state": {
            "_model_module": "@jupyter-widgets/base",
            "_model_module_version": "1.2.0",
            "_model_name": "LayoutModel",
            "_view_count": null,
            "_view_module": "@jupyter-widgets/base",
            "_view_module_version": "1.2.0",
            "_view_name": "LayoutView",
            "align_content": null,
            "align_items": null,
            "align_self": null,
            "border": null,
            "bottom": null,
            "display": null,
            "flex": null,
            "flex_flow": null,
            "grid_area": null,
            "grid_auto_columns": null,
            "grid_auto_flow": null,
            "grid_auto_rows": null,
            "grid_column": null,
            "grid_gap": null,
            "grid_row": null,
            "grid_template_areas": null,
            "grid_template_columns": null,
            "grid_template_rows": null,
            "height": null,
            "justify_content": null,
            "justify_items": null,
            "left": null,
            "margin": null,
            "max_height": null,
            "max_width": null,
            "min_height": null,
            "min_width": null,
            "object_fit": null,
            "object_position": null,
            "order": null,
            "overflow": null,
            "overflow_x": null,
            "overflow_y": null,
            "padding": null,
            "right": null,
            "top": null,
            "visibility": null,
            "width": null
          }
        },
        "362f641ccdcd473694bdd5cd51e3be65": {
          "model_module": "@jupyter-widgets/base",
          "model_module_version": "1.2.0",
          "model_name": "LayoutModel",
          "state": {
            "_model_module": "@jupyter-widgets/base",
            "_model_module_version": "1.2.0",
            "_model_name": "LayoutModel",
            "_view_count": null,
            "_view_module": "@jupyter-widgets/base",
            "_view_module_version": "1.2.0",
            "_view_name": "LayoutView",
            "align_content": null,
            "align_items": null,
            "align_self": null,
            "border": null,
            "bottom": null,
            "display": null,
            "flex": null,
            "flex_flow": null,
            "grid_area": null,
            "grid_auto_columns": null,
            "grid_auto_flow": null,
            "grid_auto_rows": null,
            "grid_column": null,
            "grid_gap": null,
            "grid_row": null,
            "grid_template_areas": null,
            "grid_template_columns": null,
            "grid_template_rows": null,
            "height": null,
            "justify_content": null,
            "justify_items": null,
            "left": null,
            "margin": null,
            "max_height": null,
            "max_width": null,
            "min_height": null,
            "min_width": null,
            "object_fit": null,
            "object_position": null,
            "order": null,
            "overflow": null,
            "overflow_x": null,
            "overflow_y": null,
            "padding": null,
            "right": null,
            "top": null,
            "visibility": null,
            "width": null
          }
        },
        "377f188f787f45abbe26a37083e1494e": {
          "model_module": "@jupyter-widgets/controls",
          "model_module_version": "1.5.0",
          "model_name": "HBoxModel",
          "state": {
            "_dom_classes": [],
            "_model_module": "@jupyter-widgets/controls",
            "_model_module_version": "1.5.0",
            "_model_name": "HBoxModel",
            "_view_count": null,
            "_view_module": "@jupyter-widgets/controls",
            "_view_module_version": "1.5.0",
            "_view_name": "HBoxView",
            "box_style": "",
            "children": [
              "IPY_MODEL_9d765325ba634222a05cd3f8a848fb31",
              "IPY_MODEL_0a281bcd164b4891a8d11945df3967d3",
              "IPY_MODEL_62b7472256bc439a96897ce9a9ec9972"
            ],
            "layout": "IPY_MODEL_362f641ccdcd473694bdd5cd51e3be65"
          }
        },
        "39158831938a481ca40ed35630bae153": {
          "model_module": "@jupyter-widgets/base",
          "model_module_version": "1.2.0",
          "model_name": "LayoutModel",
          "state": {
            "_model_module": "@jupyter-widgets/base",
            "_model_module_version": "1.2.0",
            "_model_name": "LayoutModel",
            "_view_count": null,
            "_view_module": "@jupyter-widgets/base",
            "_view_module_version": "1.2.0",
            "_view_name": "LayoutView",
            "align_content": null,
            "align_items": null,
            "align_self": null,
            "border": null,
            "bottom": null,
            "display": null,
            "flex": null,
            "flex_flow": null,
            "grid_area": null,
            "grid_auto_columns": null,
            "grid_auto_flow": null,
            "grid_auto_rows": null,
            "grid_column": null,
            "grid_gap": null,
            "grid_row": null,
            "grid_template_areas": null,
            "grid_template_columns": null,
            "grid_template_rows": null,
            "height": null,
            "justify_content": null,
            "justify_items": null,
            "left": null,
            "margin": null,
            "max_height": null,
            "max_width": null,
            "min_height": null,
            "min_width": null,
            "object_fit": null,
            "object_position": null,
            "order": null,
            "overflow": null,
            "overflow_x": null,
            "overflow_y": null,
            "padding": null,
            "right": null,
            "top": null,
            "visibility": null,
            "width": null
          }
        },
        "3bb93ff99f8d40edabf5c5e18f2f8aa6": {
          "model_module": "@jupyter-widgets/base",
          "model_module_version": "1.2.0",
          "model_name": "LayoutModel",
          "state": {
            "_model_module": "@jupyter-widgets/base",
            "_model_module_version": "1.2.0",
            "_model_name": "LayoutModel",
            "_view_count": null,
            "_view_module": "@jupyter-widgets/base",
            "_view_module_version": "1.2.0",
            "_view_name": "LayoutView",
            "align_content": null,
            "align_items": null,
            "align_self": null,
            "border": null,
            "bottom": null,
            "display": null,
            "flex": null,
            "flex_flow": null,
            "grid_area": null,
            "grid_auto_columns": null,
            "grid_auto_flow": null,
            "grid_auto_rows": null,
            "grid_column": null,
            "grid_gap": null,
            "grid_row": null,
            "grid_template_areas": null,
            "grid_template_columns": null,
            "grid_template_rows": null,
            "height": null,
            "justify_content": null,
            "justify_items": null,
            "left": null,
            "margin": null,
            "max_height": null,
            "max_width": null,
            "min_height": null,
            "min_width": null,
            "object_fit": null,
            "object_position": null,
            "order": null,
            "overflow": null,
            "overflow_x": null,
            "overflow_y": null,
            "padding": null,
            "right": null,
            "top": null,
            "visibility": null,
            "width": null
          }
        },
        "42f5d949449c4262ac9cd056ce59da6a": {
          "model_module": "@jupyter-widgets/controls",
          "model_module_version": "1.5.0",
          "model_name": "ProgressStyleModel",
          "state": {
            "_model_module": "@jupyter-widgets/controls",
            "_model_module_version": "1.5.0",
            "_model_name": "ProgressStyleModel",
            "_view_count": null,
            "_view_module": "@jupyter-widgets/base",
            "_view_module_version": "1.2.0",
            "_view_name": "StyleView",
            "bar_color": null,
            "description_width": ""
          }
        },
        "57bd83fc7dc444b783d1ad10b18eb923": {
          "model_module": "@jupyter-widgets/base",
          "model_module_version": "1.2.0",
          "model_name": "LayoutModel",
          "state": {
            "_model_module": "@jupyter-widgets/base",
            "_model_module_version": "1.2.0",
            "_model_name": "LayoutModel",
            "_view_count": null,
            "_view_module": "@jupyter-widgets/base",
            "_view_module_version": "1.2.0",
            "_view_name": "LayoutView",
            "align_content": null,
            "align_items": null,
            "align_self": null,
            "border": null,
            "bottom": null,
            "display": null,
            "flex": null,
            "flex_flow": null,
            "grid_area": null,
            "grid_auto_columns": null,
            "grid_auto_flow": null,
            "grid_auto_rows": null,
            "grid_column": null,
            "grid_gap": null,
            "grid_row": null,
            "grid_template_areas": null,
            "grid_template_columns": null,
            "grid_template_rows": null,
            "height": null,
            "justify_content": null,
            "justify_items": null,
            "left": null,
            "margin": null,
            "max_height": null,
            "max_width": null,
            "min_height": null,
            "min_width": null,
            "object_fit": null,
            "object_position": null,
            "order": null,
            "overflow": null,
            "overflow_x": null,
            "overflow_y": null,
            "padding": null,
            "right": null,
            "top": null,
            "visibility": null,
            "width": null
          }
        },
        "5960d554d879477aae371dffdb53957e": {
          "model_module": "@jupyter-widgets/base",
          "model_module_version": "1.2.0",
          "model_name": "LayoutModel",
          "state": {
            "_model_module": "@jupyter-widgets/base",
            "_model_module_version": "1.2.0",
            "_model_name": "LayoutModel",
            "_view_count": null,
            "_view_module": "@jupyter-widgets/base",
            "_view_module_version": "1.2.0",
            "_view_name": "LayoutView",
            "align_content": null,
            "align_items": null,
            "align_self": null,
            "border": null,
            "bottom": null,
            "display": null,
            "flex": null,
            "flex_flow": null,
            "grid_area": null,
            "grid_auto_columns": null,
            "grid_auto_flow": null,
            "grid_auto_rows": null,
            "grid_column": null,
            "grid_gap": null,
            "grid_row": null,
            "grid_template_areas": null,
            "grid_template_columns": null,
            "grid_template_rows": null,
            "height": null,
            "justify_content": null,
            "justify_items": null,
            "left": null,
            "margin": null,
            "max_height": null,
            "max_width": null,
            "min_height": null,
            "min_width": null,
            "object_fit": null,
            "object_position": null,
            "order": null,
            "overflow": null,
            "overflow_x": null,
            "overflow_y": null,
            "padding": null,
            "right": null,
            "top": null,
            "visibility": null,
            "width": null
          }
        },
        "5b3dbbc9550b404db3b18a5f386715a4": {
          "model_module": "@jupyter-widgets/controls",
          "model_module_version": "1.5.0",
          "model_name": "HBoxModel",
          "state": {
            "_dom_classes": [],
            "_model_module": "@jupyter-widgets/controls",
            "_model_module_version": "1.5.0",
            "_model_name": "HBoxModel",
            "_view_count": null,
            "_view_module": "@jupyter-widgets/controls",
            "_view_module_version": "1.5.0",
            "_view_name": "HBoxView",
            "box_style": "",
            "children": [
              "IPY_MODEL_0089611952c84b54b68769e3e632b32f",
              "IPY_MODEL_7ccc8871632e420d8e9d4f735cae8b09",
              "IPY_MODEL_f9e912169f224d6f80c37d998eee64f0"
            ],
            "layout": "IPY_MODEL_d08b1d98435243e89aa7ff0f41d7e5f2"
          }
        },
        "612ac3bea96f456c9e98639a13916baf": {
          "model_module": "@jupyter-widgets/controls",
          "model_module_version": "1.5.0",
          "model_name": "DescriptionStyleModel",
          "state": {
            "_model_module": "@jupyter-widgets/controls",
            "_model_module_version": "1.5.0",
            "_model_name": "DescriptionStyleModel",
            "_view_count": null,
            "_view_module": "@jupyter-widgets/base",
            "_view_module_version": "1.2.0",
            "_view_name": "StyleView",
            "description_width": ""
          }
        },
        "62b7472256bc439a96897ce9a9ec9972": {
          "model_module": "@jupyter-widgets/controls",
          "model_module_version": "1.5.0",
          "model_name": "HTMLModel",
          "state": {
            "_dom_classes": [],
            "_model_module": "@jupyter-widgets/controls",
            "_model_module_version": "1.5.0",
            "_model_name": "HTMLModel",
            "_view_count": null,
            "_view_module": "@jupyter-widgets/controls",
            "_view_module_version": "1.5.0",
            "_view_name": "HTMLView",
            "description": "",
            "description_tooltip": null,
            "layout": "IPY_MODEL_b880904e78e34b55b9f717d6b9c1a6ac",
            "placeholder": "​",
            "style": "IPY_MODEL_2c636d76aa0345599be5449ad5db6ce9",
            "value": " 52/52 [00:20&lt;00:00,  2.62it/s]"
          }
        },
        "640310cc695c4bfca0b20edfbbba7808": {
          "model_module": "@jupyter-widgets/controls",
          "model_module_version": "1.5.0",
          "model_name": "HTMLModel",
          "state": {
            "_dom_classes": [],
            "_model_module": "@jupyter-widgets/controls",
            "_model_module_version": "1.5.0",
            "_model_name": "HTMLModel",
            "_view_count": null,
            "_view_module": "@jupyter-widgets/controls",
            "_view_module_version": "1.5.0",
            "_view_name": "HTMLView",
            "description": "",
            "description_tooltip": null,
            "layout": "IPY_MODEL_0998da99547d467789c7fbf8292550bd",
            "placeholder": "​",
            "style": "IPY_MODEL_612ac3bea96f456c9e98639a13916baf",
            "value": "Calculating Metrics: 100%"
          }
        },
        "6bd8aa6c9b3048a2a515a4e048a9af16": {
          "model_module": "@jupyter-widgets/controls",
          "model_module_version": "1.5.0",
          "model_name": "HTMLModel",
          "state": {
            "_dom_classes": [],
            "_model_module": "@jupyter-widgets/controls",
            "_model_module_version": "1.5.0",
            "_model_name": "HTMLModel",
            "_view_count": null,
            "_view_module": "@jupyter-widgets/controls",
            "_view_module_version": "1.5.0",
            "_view_name": "HTMLView",
            "description": "",
            "description_tooltip": null,
            "layout": "IPY_MODEL_57bd83fc7dc444b783d1ad10b18eb923",
            "placeholder": "​",
            "style": "IPY_MODEL_2113ff9a17584111bad193d0a2c082f0",
            "value": " 52/52 [00:12&lt;00:00,  4.21it/s]"
          }
        },
        "7cb8399984f24118b71b4b0f26ece917": {
          "model_module": "@jupyter-widgets/controls",
          "model_module_version": "1.5.0",
          "model_name": "DescriptionStyleModel",
          "state": {
            "_model_module": "@jupyter-widgets/controls",
            "_model_module_version": "1.5.0",
            "_model_name": "DescriptionStyleModel",
            "_view_count": null,
            "_view_module": "@jupyter-widgets/base",
            "_view_module_version": "1.2.0",
            "_view_name": "StyleView",
            "description_width": ""
          }
        },
        "7ccc8871632e420d8e9d4f735cae8b09": {
          "model_module": "@jupyter-widgets/controls",
          "model_module_version": "1.5.0",
          "model_name": "FloatProgressModel",
          "state": {
            "_dom_classes": [],
            "_model_module": "@jupyter-widgets/controls",
            "_model_module_version": "1.5.0",
            "_model_name": "FloatProgressModel",
            "_view_count": null,
            "_view_module": "@jupyter-widgets/controls",
            "_view_module_version": "1.5.0",
            "_view_name": "ProgressView",
            "bar_style": "success",
            "description": "",
            "description_tooltip": null,
            "layout": "IPY_MODEL_f9c3836add6842fcab1c6d8a8d359810",
            "max": 1,
            "min": 0,
            "orientation": "horizontal",
            "style": "IPY_MODEL_81f1bdc208054b29945cb43c9f91419a",
            "value": 1
          }
        },
        "81f1bdc208054b29945cb43c9f91419a": {
          "model_module": "@jupyter-widgets/controls",
          "model_module_version": "1.5.0",
          "model_name": "ProgressStyleModel",
          "state": {
            "_model_module": "@jupyter-widgets/controls",
            "_model_module_version": "1.5.0",
            "_model_name": "ProgressStyleModel",
            "_view_count": null,
            "_view_module": "@jupyter-widgets/base",
            "_view_module_version": "1.2.0",
            "_view_name": "StyleView",
            "bar_color": null,
            "description_width": ""
          }
        },
        "9d765325ba634222a05cd3f8a848fb31": {
          "model_module": "@jupyter-widgets/controls",
          "model_module_version": "1.5.0",
          "model_name": "HTMLModel",
          "state": {
            "_dom_classes": [],
            "_model_module": "@jupyter-widgets/controls",
            "_model_module_version": "1.5.0",
            "_model_name": "HTMLModel",
            "_view_count": null,
            "_view_module": "@jupyter-widgets/controls",
            "_view_module_version": "1.5.0",
            "_view_name": "HTMLView",
            "description": "",
            "description_tooltip": null,
            "layout": "IPY_MODEL_de48eacbb5b84f049f916c1b8d04f67f",
            "placeholder": "​",
            "style": "IPY_MODEL_7cb8399984f24118b71b4b0f26ece917",
            "value": "Calculating Metrics: 100%"
          }
        },
        "b880904e78e34b55b9f717d6b9c1a6ac": {
          "model_module": "@jupyter-widgets/base",
          "model_module_version": "1.2.0",
          "model_name": "LayoutModel",
          "state": {
            "_model_module": "@jupyter-widgets/base",
            "_model_module_version": "1.2.0",
            "_model_name": "LayoutModel",
            "_view_count": null,
            "_view_module": "@jupyter-widgets/base",
            "_view_module_version": "1.2.0",
            "_view_name": "LayoutView",
            "align_content": null,
            "align_items": null,
            "align_self": null,
            "border": null,
            "bottom": null,
            "display": null,
            "flex": null,
            "flex_flow": null,
            "grid_area": null,
            "grid_auto_columns": null,
            "grid_auto_flow": null,
            "grid_auto_rows": null,
            "grid_column": null,
            "grid_gap": null,
            "grid_row": null,
            "grid_template_areas": null,
            "grid_template_columns": null,
            "grid_template_rows": null,
            "height": null,
            "justify_content": null,
            "justify_items": null,
            "left": null,
            "margin": null,
            "max_height": null,
            "max_width": null,
            "min_height": null,
            "min_width": null,
            "object_fit": null,
            "object_position": null,
            "order": null,
            "overflow": null,
            "overflow_x": null,
            "overflow_y": null,
            "padding": null,
            "right": null,
            "top": null,
            "visibility": null,
            "width": null
          }
        },
        "d05df8bd02c24d20b7d3b295ec5025fe": {
          "model_module": "@jupyter-widgets/controls",
          "model_module_version": "1.5.0",
          "model_name": "FloatProgressModel",
          "state": {
            "_dom_classes": [],
            "_model_module": "@jupyter-widgets/controls",
            "_model_module_version": "1.5.0",
            "_model_name": "FloatProgressModel",
            "_view_count": null,
            "_view_module": "@jupyter-widgets/controls",
            "_view_module_version": "1.5.0",
            "_view_name": "ProgressView",
            "bar_style": "success",
            "description": "",
            "description_tooltip": null,
            "layout": "IPY_MODEL_33db18394b2e4789bdfa4e794f7284c7",
            "max": 52,
            "min": 0,
            "orientation": "horizontal",
            "style": "IPY_MODEL_42f5d949449c4262ac9cd056ce59da6a",
            "value": 52
          }
        },
        "d08b1d98435243e89aa7ff0f41d7e5f2": {
          "model_module": "@jupyter-widgets/base",
          "model_module_version": "1.2.0",
          "model_name": "LayoutModel",
          "state": {
            "_model_module": "@jupyter-widgets/base",
            "_model_module_version": "1.2.0",
            "_model_name": "LayoutModel",
            "_view_count": null,
            "_view_module": "@jupyter-widgets/base",
            "_view_module_version": "1.2.0",
            "_view_name": "LayoutView",
            "align_content": null,
            "align_items": null,
            "align_self": null,
            "border": null,
            "bottom": null,
            "display": null,
            "flex": null,
            "flex_flow": null,
            "grid_area": null,
            "grid_auto_columns": null,
            "grid_auto_flow": null,
            "grid_auto_rows": null,
            "grid_column": null,
            "grid_gap": null,
            "grid_row": null,
            "grid_template_areas": null,
            "grid_template_columns": null,
            "grid_template_rows": null,
            "height": null,
            "justify_content": null,
            "justify_items": null,
            "left": null,
            "margin": null,
            "max_height": null,
            "max_width": null,
            "min_height": null,
            "min_width": null,
            "object_fit": null,
            "object_position": null,
            "order": null,
            "overflow": null,
            "overflow_x": null,
            "overflow_y": null,
            "padding": null,
            "right": null,
            "top": null,
            "visibility": null,
            "width": null
          }
        },
        "d4e6d2e79c3d4ad595ab297db65e64d4": {
          "model_module": "@jupyter-widgets/controls",
          "model_module_version": "1.5.0",
          "model_name": "DescriptionStyleModel",
          "state": {
            "_model_module": "@jupyter-widgets/controls",
            "_model_module_version": "1.5.0",
            "_model_name": "DescriptionStyleModel",
            "_view_count": null,
            "_view_module": "@jupyter-widgets/base",
            "_view_module_version": "1.2.0",
            "_view_name": "StyleView",
            "description_width": ""
          }
        },
        "de48eacbb5b84f049f916c1b8d04f67f": {
          "model_module": "@jupyter-widgets/base",
          "model_module_version": "1.2.0",
          "model_name": "LayoutModel",
          "state": {
            "_model_module": "@jupyter-widgets/base",
            "_model_module_version": "1.2.0",
            "_model_name": "LayoutModel",
            "_view_count": null,
            "_view_module": "@jupyter-widgets/base",
            "_view_module_version": "1.2.0",
            "_view_name": "LayoutView",
            "align_content": null,
            "align_items": null,
            "align_self": null,
            "border": null,
            "bottom": null,
            "display": null,
            "flex": null,
            "flex_flow": null,
            "grid_area": null,
            "grid_auto_columns": null,
            "grid_auto_flow": null,
            "grid_auto_rows": null,
            "grid_column": null,
            "grid_gap": null,
            "grid_row": null,
            "grid_template_areas": null,
            "grid_template_columns": null,
            "grid_template_rows": null,
            "height": null,
            "justify_content": null,
            "justify_items": null,
            "left": null,
            "margin": null,
            "max_height": null,
            "max_width": null,
            "min_height": null,
            "min_width": null,
            "object_fit": null,
            "object_position": null,
            "order": null,
            "overflow": null,
            "overflow_x": null,
            "overflow_y": null,
            "padding": null,
            "right": null,
            "top": null,
            "visibility": null,
            "width": null
          }
        },
        "eca9e5267dda4add89760824d82051fb": {
          "model_module": "@jupyter-widgets/controls",
          "model_module_version": "1.5.0",
          "model_name": "DescriptionStyleModel",
          "state": {
            "_model_module": "@jupyter-widgets/controls",
            "_model_module_version": "1.5.0",
            "_model_name": "DescriptionStyleModel",
            "_view_count": null,
            "_view_module": "@jupyter-widgets/base",
            "_view_module_version": "1.2.0",
            "_view_name": "StyleView",
            "description_width": ""
          }
        },
        "f9c3836add6842fcab1c6d8a8d359810": {
          "model_module": "@jupyter-widgets/base",
          "model_module_version": "1.2.0",
          "model_name": "LayoutModel",
          "state": {
            "_model_module": "@jupyter-widgets/base",
            "_model_module_version": "1.2.0",
            "_model_name": "LayoutModel",
            "_view_count": null,
            "_view_module": "@jupyter-widgets/base",
            "_view_module_version": "1.2.0",
            "_view_name": "LayoutView",
            "align_content": null,
            "align_items": null,
            "align_self": null,
            "border": null,
            "bottom": null,
            "display": null,
            "flex": null,
            "flex_flow": null,
            "grid_area": null,
            "grid_auto_columns": null,
            "grid_auto_flow": null,
            "grid_auto_rows": null,
            "grid_column": null,
            "grid_gap": null,
            "grid_row": null,
            "grid_template_areas": null,
            "grid_template_columns": null,
            "grid_template_rows": null,
            "height": null,
            "justify_content": null,
            "justify_items": null,
            "left": null,
            "margin": null,
            "max_height": null,
            "max_width": null,
            "min_height": null,
            "min_width": null,
            "object_fit": null,
            "object_position": null,
            "order": null,
            "overflow": null,
            "overflow_x": null,
            "overflow_y": null,
            "padding": null,
            "right": null,
            "top": null,
            "visibility": null,
            "width": null
          }
        },
        "f9e912169f224d6f80c37d998eee64f0": {
          "model_module": "@jupyter-widgets/controls",
          "model_module_version": "1.5.0",
          "model_name": "HTMLModel",
          "state": {
            "_dom_classes": [],
            "_model_module": "@jupyter-widgets/controls",
            "_model_module_version": "1.5.0",
            "_model_name": "HTMLModel",
            "_view_count": null,
            "_view_module": "@jupyter-widgets/controls",
            "_view_module_version": "1.5.0",
            "_view_name": "HTMLView",
            "description": "",
            "description_tooltip": null,
            "layout": "IPY_MODEL_5960d554d879477aae371dffdb53957e",
            "placeholder": "​",
            "style": "IPY_MODEL_d4e6d2e79c3d4ad595ab297db65e64d4",
            "value": " 1/1 [00:00&lt;00:00, 30.46it/s]"
          }
        },
        "fe8c3057c4e844f0996168bf7ad645bd": {
          "model_module": "@jupyter-widgets/controls",
          "model_module_version": "1.5.0",
          "model_name": "HBoxModel",
          "state": {
            "_dom_classes": [],
            "_model_module": "@jupyter-widgets/controls",
            "_model_module_version": "1.5.0",
            "_model_name": "HBoxModel",
            "_view_count": null,
            "_view_module": "@jupyter-widgets/controls",
            "_view_module_version": "1.5.0",
            "_view_name": "HBoxView",
            "box_style": "",
            "children": [
              "IPY_MODEL_640310cc695c4bfca0b20edfbbba7808",
              "IPY_MODEL_d05df8bd02c24d20b7d3b295ec5025fe",
              "IPY_MODEL_6bd8aa6c9b3048a2a515a4e048a9af16"
            ],
            "layout": "IPY_MODEL_3bb93ff99f8d40edabf5c5e18f2f8aa6"
          }
        }
      }
    }
  },
  "nbformat": 4,
  "nbformat_minor": 0
}
